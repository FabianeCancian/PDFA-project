{
 "cells": [
  {
   "cell_type": "markdown",
   "metadata": {},
   "source": [
    "# Palmer Penguins Dataset Analysis\n",
    "\n",
    "****"
   ]
  },
  {
   "cell_type": "markdown",
   "metadata": {},
   "source": [
    "![Penguins](https://allisonhorst.github.io/palmerpenguins/reference/figures/lter_penguins.png)\n",
    "\n",
    "***"
   ]
  },
  {
   "cell_type": "markdown",
   "metadata": {},
   "source": [
    "# Purpose\n",
    "\n",
    "This notebook aims to explore and analyze the Palmer Penguins dataset to uncover insights about the relationships between the physical features of penguins and their species. Through this analysis, we will:\n",
    "\n",
    "Load and inspect the dataset\n",
    "Perform exploratory data analysis (EDA) to understand the distribution of various variables\n",
    "Visualize key relationships between different features\n",
    "Analyze the differences between penguin species in terms of physical attributes\n",
    "\n",
    "### Dataset Overview\n",
    "The dataset includes the following columns:\n",
    "\n",
    "species: The species of the penguin (Adelie, Chinstrap, Gentoo)\n",
    "island: The island where the penguin was observed\n",
    "bill_length_mm: The length of the penguin's bill in millimeters\n",
    "bill_depth_mm: The depth of the penguin's bill in millimeters\n",
    "flipper_length_mm: The length of the penguin's flipper in millimeters\n",
    "body_mass_g: The body mass of the penguin in grams\n",
    "sex: The sex of the penguin (Male or Female)\n",
    "By analyzing this dataset, we will explore how these variables are distributed across species and how physical characteristics like bill length, flipper length, and body mass differ between penguin species.\n",
    "\n",
    "***"
   ]
  },
  {
   "cell_type": "markdown",
   "metadata": {},
   "source": [
    "### Importing Libraries"
   ]
  },
  {
   "cell_type": "code",
   "execution_count": 15,
   "metadata": {},
   "outputs": [],
   "source": [
    "# Data frames \n",
    "import pandas as pd\n",
    "#Numerical arrays and random numbers\n",
    "import numpy as np \n",
    "#Plot\n",
    "import matplotlib.pyplot as plt\n",
    "#statistical data visualization\n",
    "import seaborn as sns\n",
    "# Importing scikit-learn (sklearn) for machine learning tasks\n",
    "import sklearn "
   ]
  },
  {
   "cell_type": "markdown",
   "metadata": {},
   "source": [
    "****\n",
    "\n",
    "### Loading Data"
   ]
  },
  {
   "cell_type": "code",
   "execution_count": 17,
   "metadata": {},
   "outputs": [],
   "source": [
    "# Load the penguins dataset.\n",
    "\n",
    "df = pd.read_csv(\"https://raw.githubusercontent.com/mwaskom/seaborn-data/master/penguins.csv\")"
   ]
  },
  {
   "cell_type": "code",
   "execution_count": null,
   "metadata": {},
   "outputs": [],
   "source": []
  }
 ],
 "metadata": {
  "kernelspec": {
   "display_name": "base",
   "language": "python",
   "name": "python3"
  },
  "language_info": {
   "codemirror_mode": {
    "name": "ipython",
    "version": 3
   },
   "file_extension": ".py",
   "mimetype": "text/x-python",
   "name": "python",
   "nbconvert_exporter": "python",
   "pygments_lexer": "ipython3",
   "version": "3.11.5"
  }
 },
 "nbformat": 4,
 "nbformat_minor": 2
}
